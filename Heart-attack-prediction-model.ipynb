{
  "cells": [
    {
      "cell_type": "markdown",
      "metadata": {},
      "source": [
        "## Basics"
      ]
    },
    {
      "cell_type": "code",
      "execution_count": 2,
      "metadata": {
        "id": "k44nPWGlW2tf"
      },
      "outputs": [],
      "source": [
        "import numpy as np\n",
        "import pandas as pd\n",
        "import matplotlib.pyplot as plt\n",
        "import seaborn as sns\n",
        "from sklearn.linear_model import LogisticRegression\n",
        "from sklearn import metrics\n",
        "from sklearn.metrics import classification_report, confusion_matrix"
      ]
    },
    {
      "cell_type": "code",
      "execution_count": 3,
      "metadata": {
        "id": "sEDvLiP6W2tg"
      },
      "outputs": [],
      "source": [
        "df = pd.read_csv('US_Heart_Patients.csv')"
      ]
    },
    {
      "cell_type": "code",
      "execution_count": 69,
      "metadata": {
        "colab": {
          "base_uri": "https://localhost:8080/",
          "height": 244
        },
        "id": "FocIzAxFW2th",
        "outputId": "d0337431-be37-4910-bf97-814ca1445f25"
      },
      "outputs": [
        {
          "data": {
            "text/html": [
              "<div>\n",
              "<style scoped>\n",
              "    .dataframe tbody tr th:only-of-type {\n",
              "        vertical-align: middle;\n",
              "    }\n",
              "\n",
              "    .dataframe tbody tr th {\n",
              "        vertical-align: top;\n",
              "    }\n",
              "\n",
              "    .dataframe thead th {\n",
              "        text-align: right;\n",
              "    }\n",
              "</style>\n",
              "<table border=\"1\" class=\"dataframe\">\n",
              "  <thead>\n",
              "    <tr style=\"text-align: right;\">\n",
              "      <th></th>\n",
              "      <th>Gender</th>\n",
              "      <th>age</th>\n",
              "      <th>education</th>\n",
              "      <th>currentSmoker</th>\n",
              "      <th>cigsPerDay</th>\n",
              "      <th>BP Meds</th>\n",
              "      <th>prevalentStroke</th>\n",
              "      <th>prevalentHyp</th>\n",
              "      <th>diabetes</th>\n",
              "      <th>tot cholesterol</th>\n",
              "      <th>Systolic BP</th>\n",
              "      <th>Diastolic BP</th>\n",
              "      <th>BMI</th>\n",
              "      <th>heartRate</th>\n",
              "      <th>glucose</th>\n",
              "      <th>Heart-Att</th>\n",
              "    </tr>\n",
              "  </thead>\n",
              "  <tbody>\n",
              "    <tr>\n",
              "      <th>0</th>\n",
              "      <td>Male</td>\n",
              "      <td>39.0</td>\n",
              "      <td>4</td>\n",
              "      <td>0</td>\n",
              "      <td>0.0</td>\n",
              "      <td>0</td>\n",
              "      <td>0</td>\n",
              "      <td>0</td>\n",
              "      <td>0</td>\n",
              "      <td>195.0</td>\n",
              "      <td>106.0</td>\n",
              "      <td>70.0</td>\n",
              "      <td>26.97</td>\n",
              "      <td>80.0</td>\n",
              "      <td>77.0</td>\n",
              "      <td>0</td>\n",
              "    </tr>\n",
              "    <tr>\n",
              "      <th>1</th>\n",
              "      <td>Female</td>\n",
              "      <td>46.0</td>\n",
              "      <td>2</td>\n",
              "      <td>0</td>\n",
              "      <td>0.0</td>\n",
              "      <td>0</td>\n",
              "      <td>0</td>\n",
              "      <td>0</td>\n",
              "      <td>0</td>\n",
              "      <td>250.0</td>\n",
              "      <td>121.0</td>\n",
              "      <td>81.0</td>\n",
              "      <td>28.73</td>\n",
              "      <td>95.0</td>\n",
              "      <td>76.0</td>\n",
              "      <td>0</td>\n",
              "    </tr>\n",
              "    <tr>\n",
              "      <th>2</th>\n",
              "      <td>Male</td>\n",
              "      <td>48.0</td>\n",
              "      <td>1</td>\n",
              "      <td>1</td>\n",
              "      <td>20.0</td>\n",
              "      <td>0</td>\n",
              "      <td>0</td>\n",
              "      <td>0</td>\n",
              "      <td>0</td>\n",
              "      <td>245.0</td>\n",
              "      <td>127.5</td>\n",
              "      <td>80.0</td>\n",
              "      <td>25.34</td>\n",
              "      <td>75.0</td>\n",
              "      <td>70.0</td>\n",
              "      <td>0</td>\n",
              "    </tr>\n",
              "    <tr>\n",
              "      <th>3</th>\n",
              "      <td>Female</td>\n",
              "      <td>61.0</td>\n",
              "      <td>3</td>\n",
              "      <td>1</td>\n",
              "      <td>30.0</td>\n",
              "      <td>0</td>\n",
              "      <td>0</td>\n",
              "      <td>1</td>\n",
              "      <td>0</td>\n",
              "      <td>225.0</td>\n",
              "      <td>150.0</td>\n",
              "      <td>95.0</td>\n",
              "      <td>28.58</td>\n",
              "      <td>65.0</td>\n",
              "      <td>103.0</td>\n",
              "      <td>1</td>\n",
              "    </tr>\n",
              "    <tr>\n",
              "      <th>4</th>\n",
              "      <td>Female</td>\n",
              "      <td>46.0</td>\n",
              "      <td>3</td>\n",
              "      <td>1</td>\n",
              "      <td>23.0</td>\n",
              "      <td>0</td>\n",
              "      <td>0</td>\n",
              "      <td>0</td>\n",
              "      <td>0</td>\n",
              "      <td>285.0</td>\n",
              "      <td>130.0</td>\n",
              "      <td>84.0</td>\n",
              "      <td>23.10</td>\n",
              "      <td>85.0</td>\n",
              "      <td>85.0</td>\n",
              "      <td>0</td>\n",
              "    </tr>\n",
              "  </tbody>\n",
              "</table>\n",
              "</div>"
            ],
            "text/plain": [
              "   Gender   age  education  currentSmoker  cigsPerDay  BP Meds  \\\n",
              "0    Male  39.0          4              0         0.0        0   \n",
              "1  Female  46.0          2              0         0.0        0   \n",
              "2    Male  48.0          1              1        20.0        0   \n",
              "3  Female  61.0          3              1        30.0        0   \n",
              "4  Female  46.0          3              1        23.0        0   \n",
              "\n",
              "   prevalentStroke  prevalentHyp  diabetes  tot cholesterol  Systolic BP  \\\n",
              "0                0             0         0            195.0        106.0   \n",
              "1                0             0         0            250.0        121.0   \n",
              "2                0             0         0            245.0        127.5   \n",
              "3                0             1         0            225.0        150.0   \n",
              "4                0             0         0            285.0        130.0   \n",
              "\n",
              "   Diastolic BP    BMI  heartRate  glucose  Heart-Att  \n",
              "0          70.0  26.97       80.0     77.0          0  \n",
              "1          81.0  28.73       95.0     76.0          0  \n",
              "2          80.0  25.34       75.0     70.0          0  \n",
              "3          95.0  28.58       65.0    103.0          1  \n",
              "4          84.0  23.10       85.0     85.0          0  "
            ]
          },
          "execution_count": 69,
          "metadata": {},
          "output_type": "execute_result"
        }
      ],
      "source": [
        "df.head()"
      ]
    },
    {
      "cell_type": "code",
      "execution_count": 5,
      "metadata": {
        "colab": {
          "base_uri": "https://localhost:8080/"
        },
        "id": "QXOPUOlIW2ti",
        "outputId": "379eb4af-45d8-4056-ed89-8a7b1250ddea"
      },
      "outputs": [
        {
          "name": "stdout",
          "output_type": "stream",
          "text": [
            "<class 'pandas.core.frame.DataFrame'>\n",
            "RangeIndex: 4240 entries, 0 to 4239\n",
            "Data columns (total 16 columns):\n",
            " #   Column           Non-Null Count  Dtype  \n",
            "---  ------           --------------  -----  \n",
            " 0   Gender           4232 non-null   object \n",
            " 1   age              4238 non-null   float64\n",
            " 2   education        4130 non-null   float64\n",
            " 3   currentSmoker    4237 non-null   float64\n",
            " 4   cigsPerDay       4209 non-null   float64\n",
            " 5   BP Meds          4180 non-null   float64\n",
            " 6   prevalentStroke  4231 non-null   float64\n",
            " 7   prevalentHyp     4238 non-null   float64\n",
            " 8   diabetes         4238 non-null   float64\n",
            " 9   tot cholesterol  4180 non-null   float64\n",
            " 10  Systolic BP      4236 non-null   float64\n",
            " 11  Diastolic BP     4235 non-null   float64\n",
            " 12  BMI              4216 non-null   float64\n",
            " 13  heartRate        4236 non-null   float64\n",
            " 14  glucose          3849 non-null   float64\n",
            " 15  Heart-Att        4240 non-null   int64  \n",
            "dtypes: float64(14), int64(1), object(1)\n",
            "memory usage: 530.1+ KB\n"
          ]
        }
      ],
      "source": [
        "df.info()"
      ]
    },
    {
      "cell_type": "markdown",
      "metadata": {},
      "source": [
        "## Filling null values"
      ]
    },
    {
      "cell_type": "code",
      "execution_count": 6,
      "metadata": {},
      "outputs": [],
      "source": [
        "df['age'].fillna(df['age'].mean(), inplace=True)"
      ]
    },
    {
      "cell_type": "code",
      "execution_count": 7,
      "metadata": {},
      "outputs": [],
      "source": [
        "df['Gender'].fillna(df['Gender'].mode()[0], inplace=True)"
      ]
    },
    {
      "cell_type": "code",
      "execution_count": 8,
      "metadata": {},
      "outputs": [],
      "source": [
        "df['cigsPerDay'].fillna(df['cigsPerDay'].mean(), inplace=True)"
      ]
    },
    {
      "cell_type": "code",
      "execution_count": 9,
      "metadata": {},
      "outputs": [],
      "source": [
        "to_fill_with_median = ['tot cholesterol', 'Systolic BP', 'Diastolic BP','BMI', 'heartRate', 'glucose']\n",
        "for col in to_fill_with_median:\n",
        "    df[col].fillna(df[col].median(), inplace=True)"
      ]
    },
    {
      "cell_type": "code",
      "execution_count": 10,
      "metadata": {
        "id": "SOftmiSMZcwq"
      },
      "outputs": [],
      "source": [
        "binary_cols = ['currentSmoker', 'BP Meds', 'prevalentStroke', 'prevalentHyp', 'diabetes']"
      ]
    },
    {
      "cell_type": "code",
      "execution_count": 11,
      "metadata": {
        "id": "cVWohzdyNfoc"
      },
      "outputs": [],
      "source": [
        "for col in binary_cols:\n",
        "    null_indices = df[df[col].isnull()].index\n",
        "    num_nulls = len(null_indices)\n",
        "    random_values = np.random.choice([0, 1], size=num_nulls)\n",
        "    df.loc[null_indices, col] = random_values"
      ]
    },
    {
      "cell_type": "code",
      "execution_count": 12,
      "metadata": {
        "id": "xEw_vtxAW2tj"
      },
      "outputs": [],
      "source": [
        "values_to_insert = [1, 2, 3, 4]\n",
        "null_indices = df[df['education'].isnull()].index\n",
        "num_each_value = len(null_indices) // len(values_to_insert)\n",
        "values = values_to_insert * num_each_value"
      ]
    },
    {
      "cell_type": "code",
      "execution_count": 13,
      "metadata": {
        "id": "nNmHNUe5W2tk"
      },
      "outputs": [],
      "source": [
        "# If there are any remaining null values, add additional values randomly\n",
        "remaining_values = len(null_indices) - len(values)\n",
        "if remaining_values > 0:\n",
        "    values += np.random.choice(values_to_insert, remaining_values).tolist()\n",
        "\n",
        "# Shuffle the values to insert\n",
        "np.random.shuffle(values)\n",
        "\n",
        "# Insert the values into the null positions\n",
        "df.loc[null_indices, 'education'] = values"
      ]
    },
    {
      "cell_type": "code",
      "execution_count": 14,
      "metadata": {
        "colab": {
          "base_uri": "https://localhost:8080/"
        },
        "id": "8pCZsY4gW2to",
        "outputId": "b7b37e82-c8b5-4a43-c002-72715ab1a884"
      },
      "outputs": [
        {
          "name": "stdout",
          "output_type": "stream",
          "text": [
            "0\n",
            "education\n",
            "1.0    1744\n",
            "2.0    1279\n",
            "3.0     716\n",
            "4.0     501\n",
            "Name: count, dtype: int64\n"
          ]
        }
      ],
      "source": [
        "# Verify the changes\n",
        "print(df['education'].isnull().sum())  # Should be 0\n",
        "print(df['education'].value_counts())"
      ]
    },
    {
      "cell_type": "markdown",
      "metadata": {
        "id": "JoDi4rhlW2tp"
      },
      "source": [
        "\n",
        "\n",
        "This code will fill the null values in the 'education' column with the values 1, 2, 3, and 4 in equal numbers randomly."
      ]
    },
    {
      "cell_type": "code",
      "execution_count": 15,
      "metadata": {},
      "outputs": [
        {
          "data": {
            "text/plain": [
              "0"
            ]
          },
          "execution_count": 15,
          "metadata": {},
          "output_type": "execute_result"
        }
      ],
      "source": [
        "df.duplicated().sum()"
      ]
    },
    {
      "cell_type": "code",
      "execution_count": 16,
      "metadata": {
        "id": "W2XatCjqW2tt"
      },
      "outputs": [],
      "source": [
        "df.fillna({'Gender': df['Gender'].mode}, inplace=True)"
      ]
    },
    {
      "cell_type": "code",
      "execution_count": 17,
      "metadata": {},
      "outputs": [],
      "source": [
        "cols_to_convert = ['education', 'currentSmoker', 'BP Meds', 'prevalentStroke', 'prevalentHyp', 'diabetes']"
      ]
    },
    {
      "cell_type": "code",
      "execution_count": 18,
      "metadata": {},
      "outputs": [],
      "source": [
        "for col in cols_to_convert:\n",
        "    df[col] = df[col].astype('int')"
      ]
    },
    {
      "cell_type": "markdown",
      "metadata": {},
      "source": [
        "## Removing Outliers"
      ]
    },
    {
      "cell_type": "code",
      "execution_count": 19,
      "metadata": {},
      "outputs": [],
      "source": [
        "X = df.drop('Heart-Att', axis=1)    \n",
        "y = df['Heart-Att']"
      ]
    },
    {
      "cell_type": "code",
      "execution_count": 20,
      "metadata": {
        "id": "q9IyVYo0W2tu"
      },
      "outputs": [],
      "source": [
        "def remove_outlier(col):\n",
        "    sorted(col)\n",
        "    Q1,Q3=np.percentile(col,[25,75])\n",
        "    IQR=Q3-Q1\n",
        "    lower_range= Q1-(1.5 * IQR)\n",
        "    upper_range= Q3+(1.5 * IQR)\n",
        "    return lower_range, upper_range"
      ]
    },
    {
      "cell_type": "code",
      "execution_count": 21,
      "metadata": {
        "id": "xGRrTau_W2tu"
      },
      "outputs": [],
      "source": [
        "for column in X.columns:\n",
        "    if X[column].dtype != 'object':\n",
        "        lr,ur=remove_outlier(X[column])\n",
        "        X[column]=np.where(X[column]>ur,ur,X[column])\n",
        "        X[column]=np.where(X[column]<lr,lr,X[column])"
      ]
    },
    {
      "cell_type": "code",
      "execution_count": 22,
      "metadata": {},
      "outputs": [],
      "source": [
        "cols_outliers = ['age','education','cigsPerDay','tot cholesterol','Systolic BP','Diastolic BP','BMI','heartRate','glucose']"
      ]
    },
    {
      "cell_type": "code",
      "execution_count": 23,
      "metadata": {},
      "outputs": [],
      "source": [
        "for column in cols_outliers:\n",
        "    lr,ur=remove_outlier(X[column])\n",
        "    X[column]=np.where(X[column]>ur,ur,X[column])\n",
        "    X[column]=np.where(X[column]<lr,lr,X[column])"
      ]
    },
    {
      "cell_type": "code",
      "execution_count": 24,
      "metadata": {},
      "outputs": [
        {
          "name": "stdout",
          "output_type": "stream",
          "text": [
            "Gender ['Male' 'Female']\n",
            "age [39.         46.         48.         61.         43.         63.\n",
            " 45.         52.         50.         41.         38.         42.\n",
            " 44.         47.         60.         35.         36.         59.\n",
            " 54.         37.         56.         53.         49.         65.\n",
            " 51.         62.         40.         67.         57.         66.\n",
            " 49.57928268 64.         55.         58.         34.         68.\n",
            " 33.         70.         32.         69.        ]\n",
            "education [4. 2. 1. 3.]\n",
            "currentSmoker [0. 1.]\n",
            "cigsPerDay [ 0.         20.         30.         23.         15.          9.\n",
            " 10.          9.00190069 35.         43.          5.          1.\n",
            " 40.          3.          2.         12.          4.         18.\n",
            " 25.         50.         14.         45.          8.         13.\n",
            " 11.          7.          6.         38.         29.         17.\n",
            " 16.         19.        ]\n",
            "BP Meds [0.]\n",
            "prevalentStroke [0.]\n",
            "prevalentHyp [0. 1.]\n",
            "diabetes [0.]\n",
            "tot cholesterol [195. 250. 245. 225. 285. 228. 205. 313. 260. 254. 247. 294. 332. 234.\n",
            " 221. 232. 291. 190. 185. 215. 270. 272. 295. 226. 209. 175. 214. 257.\n",
            " 178. 233. 180. 243. 237. 311. 208. 252. 261. 179. 194. 267. 216. 240.\n",
            " 220. 235. 212. 223. 300. 302. 248. 200. 189. 258. 202. 213. 183. 274.\n",
            " 170. 210. 197. 326. 188. 256. 244. 193. 239. 296. 269. 275. 268. 265.\n",
            " 173. 273. 290. 278. 264. 282. 241. 288. 222. 303. 246. 150. 266. 187.\n",
            " 286. 154. 279. 293. 259. 219. 230. 320. 312. 165. 159. 174. 242. 301.\n",
            " 167. 308. 325. 229. 236. 224. 253. 346. 171. 186. 227. 249. 176. 163.\n",
            " 191. 263. 196. 310. 164. 135. 238. 207. 342. 287. 182. 284. 217. 203.\n",
            " 262. 129. 155. 323. 206. 283. 319. 304. 340. 328. 280. 218. 276. 339.\n",
            " 231. 198. 177. 201. 255. 277. 184. 199. 168. 292. 305. 306. 152. 161.\n",
            " 181. 251. 271. 145. 330. 157. 162. 314. 166. 160. 281. 289. 307. 156.\n",
            " 329. 143. 211. 298. 334. 192. 204. 318. 309. 335. 158. 169. 140. 324.\n",
            " 315. 322. 149. 137. 172. 317. 153. 345. 297. 338. 122. 148. 333. 327.\n",
            " 344. 126. 316. 144. 321. 336. 299. 124. 341. 133. 337. 331.]\n",
            "Systolic BP [106.  121.  127.5 150.  130.  180.  138.  100.  141.5 162.  133.  131.\n",
            " 142.  124.  114.  140.  112.  122.  139.  108.  123.5 148.  132.  137.5\n",
            " 102.  110.  182.  115.  134.  147.  124.5 153.5 160.  153.  111.  116.5\n",
            " 184.5  96.  179.5 119.  116.  156.5 145.  128.  158.  157.  126.5 136.\n",
            " 154.  107.  112.5 164.5 138.5 155.  151.  152.  179.  113.  132.5 126.\n",
            " 123.  141.  135.  127.  160.5 105.  109.  118.  109.5 117.5 149.  180.5\n",
            " 136.5 125.  121.5 173.  144.  129.5 117.  144.5 170.  137.   94.  119.5\n",
            " 143.  166.  139.5 177.5 129.  159.  130.5 107.5 168.  146.  174.  122.5\n",
            "  98.  131.5 101.  158.5  97.  151.5  97.5 120.  143.5 157.5 140.5 171.\n",
            "  95.  156.  165.  178.  146.5 113.5  90.  152.5  95.5 162.5 108.5 103.\n",
            " 145.5 134.5 115.5 118.5 174.5 163.  164.  120.5  98.5 161.  168.5 176.\n",
            " 163.5 128.5 167.  167.5 172.5 183.  147.5 175.  142.5  96.5 159.5 177.\n",
            " 102.5 133.5 104.  184.  114.5 125.5 111.5 105.5 161.5 171.5 148.5 169.\n",
            " 154.5  93.5 172.   99.  181.  100.5 104.5 135.5 103.5 149.5 182.5 110.5\n",
            " 155.5  92.  166.5 150.5  85.5 169.5 181.5 176.5  92.5  83.5 106.5 170.5\n",
            "  93.  175.5 101.5  99.5  85. ]\n",
            "Diastolic BP [ 70.      81.      80.      95.      84.     110.      71.      89.\n",
            " 107.      76.      88.      94.      64.      90.      78.      84.5\n",
            "  70.5     77.5     82.      68.      72.5     91.     111.5625  85.5\n",
            "  85.      82.5     74.      92.5    102.      98.     101.      73.\n",
            "  92.      83.5     63.      69.      93.      66.      75.      79.\n",
            "  87.      99.      60.      67.5    106.      86.5    104.      86.\n",
            "  61.5     71.5     76.5     77.      88.5    105.      96.      97.\n",
            " 100.      81.5    106.5     80.5     61.      83.      67.      74.5\n",
            "  66.5     65.      72.      99.5     57.      57.5    111.      78.5\n",
            " 104.5     89.5     55.      75.5     97.5     59.      69.5     95.5\n",
            "  96.5     64.5     68.5     98.5     62.      59.5    103.     108.5\n",
            "  73.5     87.5    108.      93.5     90.5     62.5     94.5     79.5\n",
            " 109.      91.5    102.5     65.5    105.5    103.5     63.5    107.5\n",
            " 109.5     58.     100.5     54.      53.0625 101.5    110.5     56.\n",
            "  60.5   ]\n",
            "BMI [26.97 28.73 25.34 ... 30.48 26.7  20.91]\n",
            "heartRate [ 80.   95.   75.   65.   85.   77.   60.   79.   76.   93.   72.   98.\n",
            "  64.   70.   71.   62.   73.   90.   96.   68.   63.   88.   78.   83.\n",
            " 100.   67.   84.   57.   50.   74.   86.   55.   92.   66.   87.  105.5\n",
            "  81.   56.   89.   82.   48.  105.   61.   54.   69.   52.   94.   58.\n",
            " 104.   91.   53.   59.   51.  102.  103.   45.5  47.   97.   99.  101.\n",
            "  46. ]\n",
            "glucose [ 77.   76.   70.  103.   85.   99.   78.   79.   88.   61.   64.   84.\n",
            "  72.   89.   65.  104.5  75.   83.   66.   74.   63.   87.   90.   80.\n",
            " 100.   98.   62.   95.   94.   55.   82.   93.   73.   52.5  68.   97.\n",
            " 104.   96.   71.   56.   60.  102.   58.   92.   86.   54.   67.   69.\n",
            "  57.   91.   59.   81.  101.   53. ]\n"
          ]
        }
      ],
      "source": [
        "for col in X.columns:\n",
        "    print(col, X[col].unique())"
      ]
    },
    {
      "cell_type": "code",
      "execution_count": 25,
      "metadata": {
        "colab": {
          "base_uri": "https://localhost:8080/",
          "height": 519
        },
        "id": "v7RxSTm6W2tu",
        "outputId": "d1b4e6dd-87bc-42e7-de3f-d40cd44ea24d"
      },
      "outputs": [
        {
          "data": {
            "image/png": "[encoded data removed]",
            "text/plain": [
              "<Figure size 1000x500 with 1 Axes>"
            ]
          },
          "metadata": {},
          "output_type": "display_data"
        }
      ],
      "source": [
        "plt.figure(figsize=(10,5))\n",
        "sns.boxplot(data=X);\n",
        "plt.grid(True)\n",
        "plt.xticks(rotation=45);"
      ]
    },
    {
      "cell_type": "markdown",
      "metadata": {},
      "source": [
        "## Logistic Regression"
      ]
    },
    {
      "cell_type": "code",
      "execution_count": 26,
      "metadata": {},
      "outputs": [],
      "source": [
        "from sklearn.model_selection import train_test_split\n",
        "from sklearn.preprocessing import StandardScaler, LabelEncoder\n",
        "from sklearn.linear_model import LogisticRegression\n",
        "from sklearn.metrics import accuracy_score, confusion_matrix, classification_report, precision_score, recall_score, f1_score"
      ]
    },
    {
      "cell_type": "code",
      "execution_count": 27,
      "metadata": {},
      "outputs": [],
      "source": [
        "label_encoder = LabelEncoder()\n",
        "X['Gender'] = label_encoder.fit_transform(df['Gender'])"
      ]
    },
    {
      "cell_type": "code",
      "execution_count": 28,
      "metadata": {},
      "outputs": [],
      "source": [
        "X = X.astype('int')"
      ]
    },
    {
      "cell_type": "code",
      "execution_count": 29,
      "metadata": {},
      "outputs": [],
      "source": [
        "X_train, X_test, y_train, y_test = train_test_split(X, y, test_size=0.2, random_state=0)"
      ]
    },
    {
      "cell_type": "code",
      "execution_count": 30,
      "metadata": {},
      "outputs": [],
      "source": [
        "scaler = StandardScaler()\n",
        "X_train = scaler.fit_transform(X_train)\n",
        "X_test = scaler.transform(X_test)"
      ]
    },
    {
      "cell_type": "code",
      "execution_count": 31,
      "metadata": {},
      "outputs": [
        {
          "data": {
            "text/plain": [
              "Heart-Att\n",
              "0    3596\n",
              "1     644\n",
              "Name: count, dtype: int64"
            ]
          },
          "execution_count": 31,
          "metadata": {},
          "output_type": "execute_result"
        }
      ],
      "source": [
        "df['Heart-Att'].value_counts()  "
      ]
    },
    {
      "cell_type": "code",
      "execution_count": 32,
      "metadata": {},
      "outputs": [
        {
          "data": {
            "text/html": [
              "<style>#sk-container-id-1 {color: black;}#sk-container-id-1 pre{padding: 0;}#sk-container-id-1 div.sk-toggleable {background-color: white;}#sk-container-id-1 label.sk-toggleable__label {cursor: pointer;display: block;width: 100%;margin-bottom: 0;padding: 0.3em;box-sizing: border-box;text-align: center;}#sk-container-id-1 label.sk-toggleable__label-arrow:before {content: \"▸\";float: left;margin-right: 0.25em;color: #696969;}#sk-container-id-1 label.sk-toggleable__label-arrow:hover:before {color: black;}#sk-container-id-1 div.sk-estimator:hover label.sk-toggleable__label-arrow:before {color: black;}#sk-container-id-1 div.sk-toggleable__content {max-height: 0;max-width: 0;overflow: hidden;text-align: left;background-color: #f0f8ff;}#sk-container-id-1 div.sk-toggleable__content pre {margin: 0.2em;color: black;border-radius: 0.25em;background-color: #f0f8ff;}#sk-container-id-1 input.sk-toggleable__control:checked~div.sk-toggleable__content {max-height: 200px;max-width: 100%;overflow: auto;}#sk-container-id-1 input.sk-toggleable__control:checked~label.sk-toggleable__label-arrow:before {content: \"▾\";}#sk-container-id-1 div.sk-estimator input.sk-toggleable__control:checked~label.sk-toggleable__label {background-color: #d4ebff;}#sk-container-id-1 div.sk-label input.sk-toggleable__control:checked~label.sk-toggleable__label {background-color: #d4ebff;}#sk-container-id-1 input.sk-hidden--visually {border: 0;clip: rect(1px 1px 1px 1px);clip: rect(1px, 1px, 1px, 1px);height: 1px;margin: -1px;overflow: hidden;padding: 0;position: absolute;width: 1px;}#sk-container-id-1 div.sk-estimator {font-family: monospace;background-color: #f0f8ff;border: 1px dotted black;border-radius: 0.25em;box-sizing: border-box;margin-bottom: 0.5em;}#sk-container-id-1 div.sk-estimator:hover {background-color: #d4ebff;}#sk-container-id-1 div.sk-parallel-item::after {content: \"\";width: 100%;border-bottom: 1px solid gray;flex-grow: 1;}#sk-container-id-1 div.sk-label:hover label.sk-toggleable__label {background-color: #d4ebff;}#sk-container-id-1 div.sk-serial::before {content: \"\";position: absolute;border-left: 1px solid gray;box-sizing: border-box;top: 0;bottom: 0;left: 50%;z-index: 0;}#sk-container-id-1 div.sk-serial {display: flex;flex-direction: column;align-items: center;background-color: white;padding-right: 0.2em;padding-left: 0.2em;position: relative;}#sk-container-id-1 div.sk-item {position: relative;z-index: 1;}#sk-container-id-1 div.sk-parallel {display: flex;align-items: stretch;justify-content: center;background-color: white;position: relative;}#sk-container-id-1 div.sk-item::before, #sk-container-id-1 div.sk-parallel-item::before {content: \"\";position: absolute;border-left: 1px solid gray;box-sizing: border-box;top: 0;bottom: 0;left: 50%;z-index: -1;}#sk-container-id-1 div.sk-parallel-item {display: flex;flex-direction: column;z-index: 1;position: relative;background-color: white;}#sk-container-id-1 div.sk-parallel-item:first-child::after {align-self: flex-end;width: 50%;}#sk-container-id-1 div.sk-parallel-item:last-child::after {align-self: flex-start;width: 50%;}#sk-container-id-1 div.sk-parallel-item:only-child::after {width: 0;}#sk-container-id-1 div.sk-dashed-wrapped {border: 1px dashed gray;margin: 0 0.4em 0.5em 0.4em;box-sizing: border-box;padding-bottom: 0.4em;background-color: white;}#sk-container-id-1 div.sk-label label {font-family: monospace;font-weight: bold;display: inline-block;line-height: 1.2em;}#sk-container-id-1 div.sk-label-container {text-align: center;}#sk-container-id-1 div.sk-container {/* jupyter's `normalize.less` sets `[hidden] { display: none; }` but bootstrap.min.css set `[hidden] { display: none !important; }` so we also need the `!important` here to be able to override the default hidden behavior on the sphinx rendered scikit-learn.org. See: https://github.com/scikit-learn/scikit-learn/issues/21755 */display: inline-block !important;position: relative;}#sk-container-id-1 div.sk-text-repr-fallback {display: none;}</style><div id=\"sk-container-id-1\" class=\"sk-top-container\"><div class=\"sk-text-repr-fallback\"><pre>LogisticRegression()</pre><b>In a Jupyter environment, please rerun this cell to show the HTML representation or trust the notebook. <br />On GitHub, the HTML representation is unable to render, please try loading this page with nbviewer.org.</b></div><div class=\"sk-container\" hidden><div class=\"sk-item\"><div class=\"sk-estimator sk-toggleable\"><input class=\"sk-toggleable__control sk-hidden--visually\" id=\"sk-estimator-id-1\" type=\"checkbox\" checked><label for=\"sk-estimator-id-1\" class=\"sk-toggleable__label sk-toggleable__label-arrow\">LogisticRegression</label><div class=\"sk-toggleable__content\"><pre>LogisticRegression()</pre></div></div></div></div></div>"
            ],
            "text/plain": [
              "LogisticRegression()"
            ]
          },
          "execution_count": 32,
          "metadata": {},
          "output_type": "execute_result"
        }
      ],
      "source": [
        "model_lr = LogisticRegression()\n",
        "model_lr.fit(X_train, y_train)"
      ]
    },
    {
      "cell_type": "code",
      "execution_count": 33,
      "metadata": {},
      "outputs": [],
      "source": [
        "y_pred = model_lr.predict(X_test)"
      ]
    },
    {
      "cell_type": "code",
      "execution_count": 34,
      "metadata": {},
      "outputs": [],
      "source": [
        "class_report = classification_report(y_test, y_pred)"
      ]
    },
    {
      "cell_type": "code",
      "execution_count": 35,
      "metadata": {},
      "outputs": [
        {
          "name": "stdout",
          "output_type": "stream",
          "text": [
            "              precision    recall  f1-score   support\n",
            "\n",
            "           0       0.86      1.00      0.92       722\n",
            "           1       0.83      0.04      0.08       126\n",
            "\n",
            "    accuracy                           0.86       848\n",
            "   macro avg       0.84      0.52      0.50       848\n",
            "weighted avg       0.85      0.86      0.80       848\n",
            "\n"
          ]
        }
      ],
      "source": [
        "print(class_report)"
      ]
    },
    {
      "cell_type": "markdown",
      "metadata": {},
      "source": [
        "## Models Loop"
      ]
    },
    {
      "cell_type": "code",
      "execution_count": 36,
      "metadata": {},
      "outputs": [],
      "source": [
        "from sklearn.ensemble import RandomForestClassifier, GradientBoostingClassifier, AdaBoostClassifier\n",
        "from sklearn.svm import SVC\n",
        "from sklearn.tree import DecisionTreeClassifier\n",
        "from sklearn.neighbors import KNeighborsClassifier\n",
        "from sklearn.naive_bayes import GaussianNB\n",
        "from sklearn.discriminant_analysis import LinearDiscriminantAnalysis\n",
        "from imblearn.over_sampling import SMOTE"
      ]
    },
    {
      "cell_type": "code",
      "execution_count": 37,
      "metadata": {},
      "outputs": [],
      "source": [
        "models = {\n",
        "    'Logistic Regression': LogisticRegression(),\n",
        "    'Random Forest': RandomForestClassifier(random_state=42),\n",
        "    'Decision Tree': DecisionTreeClassifier(random_state=42),\n",
        "    'K-Nearest Neighbors': KNeighborsClassifier(), \n",
        "    'Support Vector Machine': SVC(probability=True),\n",
        "    'Gradient Boosting': GradientBoostingClassifier(random_state=42),\n",
        "    'AdaBoost' : AdaBoostClassifier(random_state=42),\n",
        "    'Naive Bayes': GaussianNB(),\n",
        "    'LDA' : LinearDiscriminantAnalysis()\n",
        "}"
      ]
    },
    {
      "cell_type": "code",
      "execution_count": 58,
      "metadata": {},
      "outputs": [],
      "source": [
        "results = []"
      ]
    },
    {
      "cell_type": "code",
      "execution_count": 59,
      "metadata": {},
      "outputs": [],
      "source": [
        "for model_name, model in models.items():\n",
        "    model.fit(X_train, y_train)\n",
        "    y_pred = model.predict(X_test)\n",
        "\n",
        "    accuracy = accuracy_score(y_test, y_pred)\n",
        "    precision = precision_score(y_test, y_pred)\n",
        "    recall = recall_score(y_test, y_pred)\n",
        "\n",
        "    results.append({'Model':model_name, \n",
        "                    'Accuracy':accuracy, \n",
        "                    'Precision':precision, \n",
        "                    'Recall':recall})"
      ]
    },
    {
      "cell_type": "code",
      "execution_count": 60,
      "metadata": {},
      "outputs": [],
      "source": [
        "results_df = pd.DataFrame(results).round(2)"
      ]
    },
    {
      "cell_type": "code",
      "execution_count": 61,
      "metadata": {},
      "outputs": [
        {
          "data": {
            "text/html": [
              "<div>\n",
              "<style scoped>\n",
              "    .dataframe tbody tr th:only-of-type {\n",
              "        vertical-align: middle;\n",
              "    }\n",
              "\n",
              "    .dataframe tbody tr th {\n",
              "        vertical-align: top;\n",
              "    }\n",
              "\n",
              "    .dataframe thead th {\n",
              "        text-align: right;\n",
              "    }\n",
              "</style>\n",
              "<table border=\"1\" class=\"dataframe\">\n",
              "  <thead>\n",
              "    <tr style=\"text-align: right;\">\n",
              "      <th></th>\n",
              "      <th>Model</th>\n",
              "      <th>Accuracy</th>\n",
              "      <th>Precision</th>\n",
              "      <th>Recall</th>\n",
              "    </tr>\n",
              "  </thead>\n",
              "  <tbody>\n",
              "    <tr>\n",
              "      <th>0</th>\n",
              "      <td>Logistic Regression</td>\n",
              "      <td>0.86</td>\n",
              "      <td>0.83</td>\n",
              "      <td>0.04</td>\n",
              "    </tr>\n",
              "    <tr>\n",
              "      <th>1</th>\n",
              "      <td>Random Forest</td>\n",
              "      <td>0.86</td>\n",
              "      <td>0.86</td>\n",
              "      <td>0.05</td>\n",
              "    </tr>\n",
              "    <tr>\n",
              "      <th>2</th>\n",
              "      <td>Decision Tree</td>\n",
              "      <td>0.75</td>\n",
              "      <td>0.17</td>\n",
              "      <td>0.17</td>\n",
              "    </tr>\n",
              "    <tr>\n",
              "      <th>3</th>\n",
              "      <td>K-Nearest Neighbors</td>\n",
              "      <td>0.84</td>\n",
              "      <td>0.38</td>\n",
              "      <td>0.11</td>\n",
              "    </tr>\n",
              "    <tr>\n",
              "      <th>4</th>\n",
              "      <td>Support Vector Machine</td>\n",
              "      <td>0.85</td>\n",
              "      <td>1.00</td>\n",
              "      <td>0.01</td>\n",
              "    </tr>\n",
              "    <tr>\n",
              "      <th>5</th>\n",
              "      <td>Gradient Boosting</td>\n",
              "      <td>0.85</td>\n",
              "      <td>0.47</td>\n",
              "      <td>0.06</td>\n",
              "    </tr>\n",
              "    <tr>\n",
              "      <th>6</th>\n",
              "      <td>AdaBoost</td>\n",
              "      <td>0.85</td>\n",
              "      <td>0.53</td>\n",
              "      <td>0.06</td>\n",
              "    </tr>\n",
              "    <tr>\n",
              "      <th>7</th>\n",
              "      <td>Naive Bayes</td>\n",
              "      <td>0.79</td>\n",
              "      <td>0.28</td>\n",
              "      <td>0.27</td>\n",
              "    </tr>\n",
              "    <tr>\n",
              "      <th>8</th>\n",
              "      <td>LDA</td>\n",
              "      <td>0.86</td>\n",
              "      <td>0.80</td>\n",
              "      <td>0.06</td>\n",
              "    </tr>\n",
              "  </tbody>\n",
              "</table>\n",
              "</div>"
            ],
            "text/plain": [
              "                    Model  Accuracy  Precision  Recall\n",
              "0     Logistic Regression      0.86       0.83    0.04\n",
              "1           Random Forest      0.86       0.86    0.05\n",
              "2           Decision Tree      0.75       0.17    0.17\n",
              "3     K-Nearest Neighbors      0.84       0.38    0.11\n",
              "4  Support Vector Machine      0.85       1.00    0.01\n",
              "5       Gradient Boosting      0.85       0.47    0.06\n",
              "6                AdaBoost      0.85       0.53    0.06\n",
              "7             Naive Bayes      0.79       0.28    0.27\n",
              "8                     LDA      0.86       0.80    0.06"
            ]
          },
          "execution_count": 61,
          "metadata": {},
          "output_type": "execute_result"
        }
      ],
      "source": [
        "results_df"
      ]
    },
    {
      "cell_type": "markdown",
      "metadata": {},
      "source": [
        "## Lowering Thresholds"
      ]
    },
    {
      "cell_type": "code",
      "execution_count": 51,
      "metadata": {},
      "outputs": [],
      "source": [
        "results_threshold = []"
      ]
    },
    {
      "cell_type": "code",
      "execution_count": 52,
      "metadata": {},
      "outputs": [],
      "source": [
        "\n",
        "threshold = 0.3\n",
        "\n",
        "for model_name, model in models.items():\n",
        "    model.fit(X_train, y_train)\n",
        "    y_pred = model.predict(X_test)\n",
        "    y_pred_proba = model.predict_proba(X_test)[:,1]\n",
        "    y_pred = (y_pred_proba > threshold).astype(int)\n",
        "\n",
        "    accuracy = accuracy_score(y_test, y_pred)\n",
        "    precision = precision_score(y_test, y_pred)\n",
        "    recall = recall_score(y_test, y_pred)\n",
        "\n",
        "    results_threshold.append({'Model':model_name, \n",
        "                    'Accuracy':accuracy, \n",
        "                    'Precision':precision, \n",
        "                    'Recall':recall})"
      ]
    },
    {
      "cell_type": "code",
      "execution_count": 55,
      "metadata": {},
      "outputs": [
        {
          "data": {
            "text/html": [
              "<div>\n",
              "<style scoped>\n",
              "    .dataframe tbody tr th:only-of-type {\n",
              "        vertical-align: middle;\n",
              "    }\n",
              "\n",
              "    .dataframe tbody tr th {\n",
              "        vertical-align: top;\n",
              "    }\n",
              "\n",
              "    .dataframe thead th {\n",
              "        text-align: right;\n",
              "    }\n",
              "</style>\n",
              "<table border=\"1\" class=\"dataframe\">\n",
              "  <thead>\n",
              "    <tr style=\"text-align: right;\">\n",
              "      <th></th>\n",
              "      <th>Model</th>\n",
              "      <th>Accuracy</th>\n",
              "      <th>Precision</th>\n",
              "      <th>Recall</th>\n",
              "    </tr>\n",
              "  </thead>\n",
              "  <tbody>\n",
              "    <tr>\n",
              "      <th>0</th>\n",
              "      <td>Logistic Regression</td>\n",
              "      <td>0.82</td>\n",
              "      <td>0.33</td>\n",
              "      <td>0.24</td>\n",
              "    </tr>\n",
              "    <tr>\n",
              "      <th>1</th>\n",
              "      <td>Random Forest</td>\n",
              "      <td>0.81</td>\n",
              "      <td>0.34</td>\n",
              "      <td>0.29</td>\n",
              "    </tr>\n",
              "    <tr>\n",
              "      <th>2</th>\n",
              "      <td>Decision Tree</td>\n",
              "      <td>0.75</td>\n",
              "      <td>0.17</td>\n",
              "      <td>0.17</td>\n",
              "    </tr>\n",
              "    <tr>\n",
              "      <th>3</th>\n",
              "      <td>K-Nearest Neighbors</td>\n",
              "      <td>0.77</td>\n",
              "      <td>0.24</td>\n",
              "      <td>0.25</td>\n",
              "    </tr>\n",
              "    <tr>\n",
              "      <th>4</th>\n",
              "      <td>Support Vector Machine</td>\n",
              "      <td>0.86</td>\n",
              "      <td>0.68</td>\n",
              "      <td>0.10</td>\n",
              "    </tr>\n",
              "    <tr>\n",
              "      <th>5</th>\n",
              "      <td>Gradient Boosting</td>\n",
              "      <td>0.82</td>\n",
              "      <td>0.32</td>\n",
              "      <td>0.20</td>\n",
              "    </tr>\n",
              "    <tr>\n",
              "      <th>6</th>\n",
              "      <td>AdaBoost</td>\n",
              "      <td>0.15</td>\n",
              "      <td>0.15</td>\n",
              "      <td>1.00</td>\n",
              "    </tr>\n",
              "    <tr>\n",
              "      <th>7</th>\n",
              "      <td>Naive Bayes</td>\n",
              "      <td>0.73</td>\n",
              "      <td>0.25</td>\n",
              "      <td>0.41</td>\n",
              "    </tr>\n",
              "    <tr>\n",
              "      <th>8</th>\n",
              "      <td>LDA</td>\n",
              "      <td>0.82</td>\n",
              "      <td>0.35</td>\n",
              "      <td>0.28</td>\n",
              "    </tr>\n",
              "  </tbody>\n",
              "</table>\n",
              "</div>"
            ],
            "text/plain": [
              "                    Model  Accuracy  Precision  Recall\n",
              "0     Logistic Regression      0.82       0.33    0.24\n",
              "1           Random Forest      0.81       0.34    0.29\n",
              "2           Decision Tree      0.75       0.17    0.17\n",
              "3     K-Nearest Neighbors      0.77       0.24    0.25\n",
              "4  Support Vector Machine      0.86       0.68    0.10\n",
              "5       Gradient Boosting      0.82       0.32    0.20\n",
              "6                AdaBoost      0.15       0.15    1.00\n",
              "7             Naive Bayes      0.73       0.25    0.41\n",
              "8                     LDA      0.82       0.35    0.28"
            ]
          },
          "execution_count": 55,
          "metadata": {},
          "output_type": "execute_result"
        }
      ],
      "source": [
        "results_threshold = pd.DataFrame(results_threshold).round(2)\n",
        "results_threshold"
      ]
    },
    {
      "cell_type": "code",
      "execution_count": 68,
      "metadata": {},
      "outputs": [
        {
          "data": {
            "text/html": [
              "<div>\n",
              "<style scoped>\n",
              "    .dataframe tbody tr th:only-of-type {\n",
              "        vertical-align: middle;\n",
              "    }\n",
              "\n",
              "    .dataframe tbody tr th {\n",
              "        vertical-align: top;\n",
              "    }\n",
              "\n",
              "    .dataframe thead th {\n",
              "        text-align: right;\n",
              "    }\n",
              "</style>\n",
              "<table border=\"1\" class=\"dataframe\">\n",
              "  <thead>\n",
              "    <tr style=\"text-align: right;\">\n",
              "      <th></th>\n",
              "      <th>Model</th>\n",
              "      <th>Accuracy</th>\n",
              "      <th>Precision</th>\n",
              "      <th>Recall</th>\n",
              "      <th>Model</th>\n",
              "      <th>Accuracy</th>\n",
              "      <th>Precision</th>\n",
              "      <th>Recall</th>\n",
              "    </tr>\n",
              "  </thead>\n",
              "  <tbody>\n",
              "    <tr>\n",
              "      <th>0</th>\n",
              "      <td>Logistic Regression</td>\n",
              "      <td>0.86</td>\n",
              "      <td>0.83</td>\n",
              "      <td>0.04</td>\n",
              "      <td>Logistic Regression</td>\n",
              "      <td>0.82</td>\n",
              "      <td>0.33</td>\n",
              "      <td>0.24</td>\n",
              "    </tr>\n",
              "    <tr>\n",
              "      <th>1</th>\n",
              "      <td>Random Forest</td>\n",
              "      <td>0.86</td>\n",
              "      <td>0.86</td>\n",
              "      <td>0.05</td>\n",
              "      <td>Random Forest</td>\n",
              "      <td>0.81</td>\n",
              "      <td>0.34</td>\n",
              "      <td>0.29</td>\n",
              "    </tr>\n",
              "    <tr>\n",
              "      <th>2</th>\n",
              "      <td>Decision Tree</td>\n",
              "      <td>0.75</td>\n",
              "      <td>0.17</td>\n",
              "      <td>0.17</td>\n",
              "      <td>Decision Tree</td>\n",
              "      <td>0.75</td>\n",
              "      <td>0.17</td>\n",
              "      <td>0.17</td>\n",
              "    </tr>\n",
              "    <tr>\n",
              "      <th>3</th>\n",
              "      <td>K-Nearest Neighbors</td>\n",
              "      <td>0.84</td>\n",
              "      <td>0.38</td>\n",
              "      <td>0.11</td>\n",
              "      <td>K-Nearest Neighbors</td>\n",
              "      <td>0.77</td>\n",
              "      <td>0.24</td>\n",
              "      <td>0.25</td>\n",
              "    </tr>\n",
              "    <tr>\n",
              "      <th>4</th>\n",
              "      <td>Support Vector Machine</td>\n",
              "      <td>0.85</td>\n",
              "      <td>1.00</td>\n",
              "      <td>0.01</td>\n",
              "      <td>Support Vector Machine</td>\n",
              "      <td>0.86</td>\n",
              "      <td>0.68</td>\n",
              "      <td>0.10</td>\n",
              "    </tr>\n",
              "    <tr>\n",
              "      <th>5</th>\n",
              "      <td>Gradient Boosting</td>\n",
              "      <td>0.85</td>\n",
              "      <td>0.47</td>\n",
              "      <td>0.06</td>\n",
              "      <td>Gradient Boosting</td>\n",
              "      <td>0.82</td>\n",
              "      <td>0.32</td>\n",
              "      <td>0.20</td>\n",
              "    </tr>\n",
              "    <tr>\n",
              "      <th>6</th>\n",
              "      <td>AdaBoost</td>\n",
              "      <td>0.85</td>\n",
              "      <td>0.53</td>\n",
              "      <td>0.06</td>\n",
              "      <td>AdaBoost</td>\n",
              "      <td>0.15</td>\n",
              "      <td>0.15</td>\n",
              "      <td>1.00</td>\n",
              "    </tr>\n",
              "    <tr>\n",
              "      <th>7</th>\n",
              "      <td>Naive Bayes</td>\n",
              "      <td>0.79</td>\n",
              "      <td>0.28</td>\n",
              "      <td>0.27</td>\n",
              "      <td>Naive Bayes</td>\n",
              "      <td>0.73</td>\n",
              "      <td>0.25</td>\n",
              "      <td>0.41</td>\n",
              "    </tr>\n",
              "    <tr>\n",
              "      <th>8</th>\n",
              "      <td>LDA</td>\n",
              "      <td>0.86</td>\n",
              "      <td>0.80</td>\n",
              "      <td>0.06</td>\n",
              "      <td>LDA</td>\n",
              "      <td>0.82</td>\n",
              "      <td>0.35</td>\n",
              "      <td>0.28</td>\n",
              "    </tr>\n",
              "  </tbody>\n",
              "</table>\n",
              "</div>"
            ],
            "text/plain": [
              "                    Model  Accuracy  Precision  Recall  \\\n",
              "0     Logistic Regression      0.86       0.83    0.04   \n",
              "1           Random Forest      0.86       0.86    0.05   \n",
              "2           Decision Tree      0.75       0.17    0.17   \n",
              "3     K-Nearest Neighbors      0.84       0.38    0.11   \n",
              "4  Support Vector Machine      0.85       1.00    0.01   \n",
              "5       Gradient Boosting      0.85       0.47    0.06   \n",
              "6                AdaBoost      0.85       0.53    0.06   \n",
              "7             Naive Bayes      0.79       0.28    0.27   \n",
              "8                     LDA      0.86       0.80    0.06   \n",
              "\n",
              "                    Model  Accuracy  Precision  Recall  \n",
              "0     Logistic Regression      0.82       0.33    0.24  \n",
              "1           Random Forest      0.81       0.34    0.29  \n",
              "2           Decision Tree      0.75       0.17    0.17  \n",
              "3     K-Nearest Neighbors      0.77       0.24    0.25  \n",
              "4  Support Vector Machine      0.86       0.68    0.10  \n",
              "5       Gradient Boosting      0.82       0.32    0.20  \n",
              "6                AdaBoost      0.15       0.15    1.00  \n",
              "7             Naive Bayes      0.73       0.25    0.41  \n",
              "8                     LDA      0.82       0.35    0.28  "
            ]
          },
          "execution_count": 68,
          "metadata": {},
          "output_type": "execute_result"
        }
      ],
      "source": [
        "comparison_df = pd.concat([results_df, results_threshold], axis=1)\n",
        "# comparison_df.columns = ['Model', 'Accuracy_Default','Accuracy_Threshold', 'Precision_Default','Model','Precision_Threshold', \\\n",
        "    # 'Recall_Default', 'Recall_Threshold']\n",
        "\n",
        "comparison_df"
      ]
    },
    {
      "cell_type": "markdown",
      "metadata": {},
      "source": [
        "## SMOTE"
      ]
    },
    {
      "cell_type": "code",
      "execution_count": 73,
      "metadata": {},
      "outputs": [],
      "source": [
        "smote = SMOTE(random_state=42)\n",
        "X_res, y_res = smote.fit_resample(X, y) "
      ]
    },
    {
      "cell_type": "code",
      "execution_count": 75,
      "metadata": {},
      "outputs": [],
      "source": [
        "X_train, X_test, y_train, y_test = train_test_split(X_res, y_res, test_size=0.2, random_state=0)"
      ]
    },
    {
      "cell_type": "code",
      "execution_count": 76,
      "metadata": {},
      "outputs": [],
      "source": [
        "X_train = scaler.fit_transform(X_train)\n",
        "X_test = scaler.transform(X_test)"
      ]
    },
    {
      "cell_type": "code",
      "execution_count": null,
      "metadata": {},
      "outputs": [],
      "source": []
    }
  ],
  "metadata": {
    "colab": {
      "provenance": []
    },
    "kernelspec": {
      "display_name": "base",
      "language": "python",
      "name": "python3"
    },
    "language_info": {
      "codemirror_mode": {
        "name": "ipython",
        "version": 3
      },
      "file_extension": ".py",
      "mimetype": "text/x-python",
      "name": "python",
      "nbconvert_exporter": "python",
      "pygments_lexer": "ipython3",
      "version": "3.11.5"
    }
  },
  "nbformat": 4,
  "nbformat_minor": 0
}
